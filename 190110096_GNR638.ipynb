{
  "cells": [
    {
      "cell_type": "code",
      "execution_count": null,
      "metadata": {
        "colab": {
          "base_uri": "https://localhost:8080/"
        },
        "id": "dKSafkV7jlsy",
        "outputId": "099db686-76af-47de-acd8-1a985039c187"
      },
      "outputs": [
        {
          "name": "stdout",
          "output_type": "stream",
          "text": [
            "Drive already mounted at /content/drive; to attempt to forcibly remount, call drive.mount(\"/content/drive\", force_remount=True).\n"
          ]
        }
      ],
      "source": [
        "from google.colab import drive\n",
        "drive.mount('/content/drive')"
      ]
    },
    {
      "cell_type": "code",
      "execution_count": null,
      "metadata": {
        "id": "n0Yz2cBYD-gG"
      },
      "outputs": [],
      "source": [
        "import matplotlib.pyplot as plt\n",
        "import numpy as np\n",
        "import PIL\n",
        "import tensorflow as tf\n",
        "import pandas as pd \n",
        "from tensorflow import keras\n",
        "from tensorflow.keras import layers\n",
        "from tensorflow.keras.models import Sequential\n",
        "import random\n",
        "import tensorflow.keras.layers as Layers\n",
        "import tensorflow.keras.activations as Actications\n",
        "import tensorflow.keras.models as Models\n",
        "import tensorflow.keras.optimizers as Optimizer\n",
        "import os\n",
        "import shutil\n",
        "import random\n",
        "from tensorflow.keras.optimizers import Adam\n",
        "import tensorflow.keras.metrics as Metrics\n",
        "import tensorflow.keras.utils as Utils\n",
        "from keras.utils.vis_utils import model_to_dot\n",
        "import cv2\n",
        "from sklearn.utils import shuffle\n",
        "from random import randint\n",
        "from IPython.display import SVG"
      ]
    },
    {
      "cell_type": "markdown",
      "metadata": {
        "id": "87TYdDI5PmE1"
      },
      "source": [
        "## DATA AUGMENTATION"
      ]
    },
    {
      "cell_type": "code",
      "execution_count": null,
      "metadata": {
        "id": "d2c3e15UtkyM"
      },
      "outputs": [],
      "source": [
        "from keras.preprocessing.image import ImageDataGenerator, array_to_img, img_to_array, load_img\n",
        "from tqdm import tqdm\n",
        "datagen = ImageDataGenerator(\n",
        "        fill_mode = \"constant\",\n",
        "        rotation_range=5,\n",
        "        shear_range=0.05,\n",
        "        width_shift_range=0.01,\n",
        "        zoom_range=0.1,\n",
        "        height_shift_range=0.01,\n",
        "        vertical_flip=True,\n",
        "        horizontal_flip=True)\n",
        "classes = ['tennis_court','swimming_pool','runway','railway','overpass','oil_well','golf_course','crosswalk', 'bridge', 'basketball_court']"
      ]
    },
    {
      "cell_type": "code",
      "execution_count": null,
      "metadata": {
        "colab": {
          "base_uri": "https://localhost:8080/"
        },
        "id": "nffgRHVKteEO",
        "outputId": "c85ee868-128c-47ff-c1be-28b4119ba3bf"
      },
      "outputs": [
        {
          "name": "stderr",
          "output_type": "stream",
          "text": [
            "100%|██████████| 50/50 [00:09<00:00,  5.49it/s]\n",
            "100%|██████████| 50/50 [00:09<00:00,  5.51it/s]\n",
            "100%|██████████| 50/50 [00:09<00:00,  5.36it/s]\n",
            "100%|██████████| 50/50 [00:09<00:00,  5.39it/s]\n",
            "100%|██████████| 50/50 [00:09<00:00,  5.54it/s]\n",
            "100%|██████████| 50/50 [00:09<00:00,  5.45it/s]\n",
            "100%|██████████| 50/50 [00:09<00:00,  5.30it/s]\n",
            "100%|██████████| 50/50 [00:09<00:00,  5.48it/s]\n",
            "100%|██████████| 50/50 [00:09<00:00,  5.48it/s]\n",
            "100%|██████████| 50/50 [00:08<00:00,  5.57it/s]\n"
          ]
        }
      ],
      "source": [
        "for cls in classes:\n",
        "    for filename in tqdm(os.listdir(\"/content/drive/My Drive/GNR/dataset/train/\"+cls)):\n",
        "        img = load_img(\"/content/drive/My Drive/GNR/dataset/train/\"+cls+\"/\"+filename)  # PIL image\n",
        "        x = img_to_array(img)  # Numpy array with shape (3, 150, 150)\n",
        "        x = x.reshape((1,) + x.shape)  # Numpy array with shape (1, 3, 150, 150)\n",
        "\n",
        "        i = 0\n",
        "        for batch in datagen.flow(x, batch_size=1,\n",
        "                              save_to_dir=\"/content/drive/My Drive/GNR/dataset/train_new/train/\"+cls, save_prefix=filename, save_format='jpeg'):\n",
        "            i += 1\n",
        "            if i > 11:\n",
        "                break  # to stop the generator from looping infinitely"
      ]
    },
    {
      "cell_type": "markdown",
      "metadata": {
        "id": "PYDRLzYKPmE5"
      },
      "source": [
        "## Making different Validation set randomly"
      ]
    },
    {
      "cell_type": "code",
      "execution_count": null,
      "metadata": {
        "id": "jvRlFUcetnO0"
      },
      "outputs": [],
      "source": [
        "#  Making different folders for Train and Val having random elements based on split ratio\n",
        "\n",
        "root_dir = \"/content/drive/My Drive/GNR/dataset/train\"\n",
        "classes_dir = ['tennis_court','swimming_pool','runway','railway','overpass','oil_well','golf_course','crosswalk', 'bridge', 'basketball_court']\n",
        "\n",
        "val_ratio = 0.20 # split ratio\n",
        "\n",
        "for cls in classes_dir:\n",
        "    os.makedirs(root_dir +'/train/' + cls)\n",
        "    os.makedirs(root_dir +'/val/' + cls)\n",
        "\n",
        "    # Creating partitions of the data after shuffeling\n",
        "    src = root_dir + \"/\" + cls # To copy images from this folder loc\n",
        "\n",
        "    allFileNames = os.listdir(src)\n",
        "    np.random.shuffle(allFileNames)\n",
        "    train_FileNames, val_FileNames= np.split(np.array(allFileNames),[int(len(allFileNames)* (1 - val_ratio))])\n",
        "\n",
        "# We dont need this train folder becauz we will use augumented train_new data\n",
        "\n",
        "    # train_FileNames = [src+'/'+ name for name in train_FileNames.tolist()]\n",
        "    val_FileNames = [src+'/' + name for name in val_FileNames.tolist()]\n",
        "\n",
        "    print('Total images: ', len(allFileNames))\n",
        "    # print('Training: ', len(train_FileNames))\n",
        "    print('Validation: ', len(val_FileNames))\n",
        "\n",
        "# Copy-pasting images\n",
        "    # for name in train_FileNames:\n",
        "    #     shutil.copy(name, root_dir +'/train/' + cls)\n",
        "\n",
        "    for name in val_FileNames:\n",
        "        shutil.copy(name, root_dir +'/val/' + cls)\n"
      ]
    },
    {
      "cell_type": "markdown",
      "metadata": {
        "id": "icpsomYsPmE8"
      },
      "source": [
        "## Defining labels for given data"
      ]
    },
    {
      "cell_type": "code",
      "execution_count": null,
      "metadata": {
        "id": "FY0G-48q3z7n"
      },
      "outputs": [],
      "source": [
        "def get_images(directory):\n",
        "    Images = []\n",
        "    Labels = []  \n",
        "    for labels in os.listdir(directory):\n",
        "        if os.path.isdir(directory+labels):\n",
        "            if labels == 'basketball_court': \n",
        "                label = 0\n",
        "            elif labels == 'bridge':\n",
        "                label = 1\n",
        "            elif labels == 'crosswalk':\n",
        "                label = 2\n",
        "            elif labels == 'golf_course':\n",
        "                label = 3\n",
        "            elif labels == 'oil_well':\n",
        "                label = 4\n",
        "            elif labels == 'overpass':\n",
        "                label = 5\n",
        "            elif labels == 'railway':\n",
        "                label = 6\n",
        "            elif labels == 'runway':\n",
        "                label = 7\n",
        "            elif labels == 'swimming_pool':\n",
        "                label = 8\n",
        "            elif labels == 'tennis_court':\n",
        "                label = 9\n",
        "\n",
        "            for image_file in os.listdir(directory+labels): \n",
        "                image = cv2.imread(directory+labels+'/'+image_file)\n",
        "                image = cv2.resize(image,(256,256)) \n",
        "                Images.append(image)\n",
        "                Labels.append(label)\n",
        "        \n",
        "        else:\n",
        "\n",
        "            for image_file in os.listdir(directory): \n",
        "                image = cv2.imread(directory+'/'+image_file) \n",
        "                image = cv2.resize(image,(256,256)) \n",
        "                Images.append(image)\n",
        "\n",
        "    return Images,Labels\n",
        "\n",
        "def get_classlabel(class_code):\n",
        "    labels = {0:'basketball_court', 1:'bridge', 2:'crosswalk', 3:'golf_course', 4:'oil_well', 5:'overpass', 6:'railway',7:'runway',8:'swimming_pool',9:'tennis_court'}\n",
        "    return labels[class_code]\n"
      ]
    },
    {
      "cell_type": "markdown",
      "metadata": {
        "id": "hxzT_gd0PmE_"
      },
      "source": [
        "### Assigning labels to augmented train dataset"
      ]
    },
    {
      "cell_type": "code",
      "execution_count": null,
      "metadata": {
        "colab": {
          "base_uri": "https://localhost:8080/"
        },
        "id": "jGFHaQ5L3z-g",
        "outputId": "51a6d801-ef2e-4de6-8259-0c1610caf306"
      },
      "outputs": [
        {
          "name": "stdout",
          "output_type": "stream",
          "text": [
            "Shape of Images array is: (5995, 256, 256, 3)\n",
            "Shape of Labels array is: (5995,)\n"
          ]
        }
      ],
      "source": [
        "Images, Labels = get_images('/content/drive/MyDrive/GNR/dataset/train_new/train/') \n",
        "\n",
        "Images = np.array(Images) \n",
        "Labels = np.array(Labels)\n",
        "c = list(zip(Images, Labels))  \n",
        "random.shuffle(c)          #doing random shuffling of images and labels (maintaining their order)\n",
        "Images, Labels = zip(*c)\n",
        "Images = np.array(Images) \n",
        "Labels = np.array(Labels)\n",
        "\n",
        "print(\"Shape of Images array is:\",Images.shape)\n",
        "print(\"Shape of Labels array is:\",Labels.shape)"
      ]
    },
    {
      "cell_type": "code",
      "execution_count": null,
      "metadata": {
        "id": "AmpYv1Bknmt0"
      },
      "outputs": [],
      "source": [
        "# just testing before implementing\n",
        "\n",
        "# a = ['a', 'b', 'c','x','y','z']\n",
        "# b = [1, 2, 3,9,7,8]\n",
        "\n",
        "# c = list(zip(a, b))\n",
        "\n",
        "# random.shuffle(c)\n",
        "\n",
        "# a, b = zip(*c)\n",
        "\n",
        "# print(a)\n",
        "# print(b)\n"
      ]
    },
    {
      "cell_type": "markdown",
      "metadata": {
        "id": "ivF57qDaPmFD"
      },
      "source": [
        "### Assigning labels to augmented validation dataset"
      ]
    },
    {
      "cell_type": "code",
      "execution_count": null,
      "metadata": {
        "colab": {
          "base_uri": "https://localhost:8080/"
        },
        "id": "jCvDlIF1iTRu",
        "outputId": "a1177ff4-ee01-4629-fc03-a1c23225c20f"
      },
      "outputs": [
        {
          "name": "stdout",
          "output_type": "stream",
          "text": [
            "Shape of Images array is: (100, 256, 256, 3)\n",
            "Shape of Labels array is: (100,)\n"
          ]
        }
      ],
      "source": [
        "Images1, Labels1 = get_images('/content/drive/MyDrive/GNR/dataset/train/val/') \n",
        "\n",
        "Images1 = np.array(Images1) \n",
        "Labels1 = np.array(Labels1)\n",
        "\n",
        "c = list(zip(Images1, Labels1))\n",
        "random.shuffle(c)           #doing random shuffling of images and labels (maintaining their order)\n",
        "Images1, Labels1 = zip(*c)\n",
        "Images1 = np.array(Images1) \n",
        "Labels1 = np.array(Labels1)\n",
        "\n",
        "print(\"Shape of Images array is:\",Images1.shape)\n",
        "print(\"Shape of Labels array is:\",Labels1.shape)"
      ]
    },
    {
      "cell_type": "code",
      "execution_count": null,
      "metadata": {
        "id": "zgiTURp730FP"
      },
      "outputs": [],
      "source": [
        "# loading data in respective variables \n",
        "\n",
        "x_train,y_train=Images,Labels \n",
        "x_val,y_val=Images1,Labels1\n",
        "\n",
        "y_train = tf.keras.utils.to_categorical(y_train, 10)\n",
        "y_val = tf.keras.utils.to_categorical(y_val, 10)\n"
      ]
    },
    {
      "cell_type": "code",
      "execution_count": null,
      "metadata": {
        "id": "ZMbRfWUviQd0"
      },
      "outputs": [],
      "source": [
        "# np.shape(y_val)"
      ]
    },
    {
      "cell_type": "markdown",
      "metadata": {
        "id": "81YRgA7mPmFH"
      },
      "source": [
        "# CNN MODEL"
      ]
    },
    {
      "cell_type": "code",
      "execution_count": null,
      "metadata": {
        "colab": {
          "base_uri": "https://localhost:8080/"
        },
        "id": "LuXsEiWe30Uc",
        "outputId": "1fe23e9c-495d-40ba-b1ec-43856e4d2c27"
      },
      "outputs": [
        {
          "name": "stdout",
          "output_type": "stream",
          "text": [
            "Model: \"sequential\"\n",
            "_________________________________________________________________\n",
            "Layer (type)                 Output Shape              Param #   \n",
            "=================================================================\n",
            "conv2d (Conv2D)              (None, 256, 256, 32)      896       \n",
            "_________________________________________________________________\n",
            "batch_normalization (BatchNo (None, 256, 256, 32)      128       \n",
            "_________________________________________________________________\n",
            "leaky_re_lu (LeakyReLU)      (None, 256, 256, 32)      0         \n",
            "_________________________________________________________________\n",
            "max_pooling2d (MaxPooling2D) (None, 128, 128, 32)      0         \n",
            "_________________________________________________________________\n",
            "spatial_dropout2d (SpatialDr (None, 128, 128, 32)      0         \n",
            "_________________________________________________________________\n",
            "conv2d_1 (Conv2D)            (None, 128, 128, 64)      18496     \n",
            "_________________________________________________________________\n",
            "batch_normalization_1 (Batch (None, 128, 128, 64)      256       \n",
            "_________________________________________________________________\n",
            "leaky_re_lu_1 (LeakyReLU)    (None, 128, 128, 64)      0         \n",
            "_________________________________________________________________\n",
            "max_pooling2d_1 (MaxPooling2 (None, 64, 64, 64)        0         \n",
            "_________________________________________________________________\n",
            "spatial_dropout2d_1 (Spatial (None, 64, 64, 64)        0         \n",
            "_________________________________________________________________\n",
            "conv2d_2 (Conv2D)            (None, 64, 64, 128)       73856     \n",
            "_________________________________________________________________\n",
            "batch_normalization_2 (Batch (None, 64, 64, 128)       512       \n",
            "_________________________________________________________________\n",
            "leaky_re_lu_2 (LeakyReLU)    (None, 64, 64, 128)       0         \n",
            "_________________________________________________________________\n",
            "max_pooling2d_2 (MaxPooling2 (None, 32, 32, 128)       0         \n",
            "_________________________________________________________________\n",
            "spatial_dropout2d_2 (Spatial (None, 32, 32, 128)       0         \n",
            "_________________________________________________________________\n",
            "conv2d_3 (Conv2D)            (None, 32, 32, 256)       295168    \n",
            "_________________________________________________________________\n",
            "batch_normalization_3 (Batch (None, 32, 32, 256)       1024      \n",
            "_________________________________________________________________\n",
            "leaky_re_lu_3 (LeakyReLU)    (None, 32, 32, 256)       0         \n",
            "_________________________________________________________________\n",
            "max_pooling2d_3 (MaxPooling2 (None, 10, 10, 256)       0         \n",
            "_________________________________________________________________\n",
            "spatial_dropout2d_3 (Spatial (None, 10, 10, 256)       0         \n",
            "_________________________________________________________________\n",
            "conv2d_4 (Conv2D)            (None, 10, 10, 512)       1180160   \n",
            "_________________________________________________________________\n",
            "batch_normalization_4 (Batch (None, 10, 10, 512)       2048      \n",
            "_________________________________________________________________\n",
            "leaky_re_lu_4 (LeakyReLU)    (None, 10, 10, 512)       0         \n",
            "_________________________________________________________________\n",
            "max_pooling2d_4 (MaxPooling2 (None, 3, 3, 512)         0         \n",
            "_________________________________________________________________\n",
            "spatial_dropout2d_4 (Spatial (None, 3, 3, 512)         0         \n",
            "_________________________________________________________________\n",
            "flatten (Flatten)            (None, 4608)              0         \n",
            "_________________________________________________________________\n",
            "dense (Dense)                (None, 512)               2359808   \n",
            "_________________________________________________________________\n",
            "batch_normalization_5 (Batch (None, 512)               2048      \n",
            "_________________________________________________________________\n",
            "leaky_re_lu_5 (LeakyReLU)    (None, 512)               0         \n",
            "_________________________________________________________________\n",
            "dropout (Dropout)            (None, 512)               0         \n",
            "_________________________________________________________________\n",
            "dense_1 (Dense)              (None, 128)               65664     \n",
            "_________________________________________________________________\n",
            "batch_normalization_6 (Batch (None, 128)               512       \n",
            "_________________________________________________________________\n",
            "leaky_re_lu_6 (LeakyReLU)    (None, 128)               0         \n",
            "_________________________________________________________________\n",
            "dropout_1 (Dropout)          (None, 128)               0         \n",
            "_________________________________________________________________\n",
            "dense_2 (Dense)              (None, 10)                1290      \n",
            "=================================================================\n",
            "Total params: 4,001,866\n",
            "Trainable params: 3,998,602\n",
            "Non-trainable params: 3,264\n",
            "_________________________________________________________________\n"
          ]
        },
        {
          "name": "stderr",
          "output_type": "stream",
          "text": [
            "/usr/local/lib/python3.7/dist-packages/keras/optimizer_v2/optimizer_v2.py:356: UserWarning: The `lr` argument is deprecated, use `learning_rate` instead.\n",
            "  \"The `lr` argument is deprecated, use `learning_rate` instead.\")\n"
          ]
        }
      ],
      "source": [
        "from tensorflow.keras.layers import Dense, Input, SpatialDropout2D,Dropout,Flatten, Conv2D\n",
        "from tensorflow.keras.layers import BatchNormalization, Activation, MaxPooling2D, LeakyReLU\n",
        "\n",
        "def cnnmodel():\n",
        "    model = Models.Sequential()\n",
        "\n",
        "    # 1st Convolutional Layer\n",
        "    model.add(Layers.Conv2D(filters=32, input_shape=(256,256,3), kernel_size=(3,3), strides=(1,1), padding='same', kernel_initializer='he_uniform'))\n",
        "    model.add(BatchNormalization())\n",
        "    model.add(LeakyReLU(alpha=0.1))\n",
        "    model.add(MaxPooling2D(pool_size=(2,2), strides=(2,2), padding='valid'))\n",
        "    model.add(SpatialDropout2D(0.5))\n",
        "    \n",
        "    # 2nd Convolutional Layer\n",
        "    model.add(Layers.Conv2D(filters=64, kernel_size=(3,3), strides=(1,1), padding='same', kernel_initializer='he_uniform'))\n",
        "    model.add(BatchNormalization())\n",
        "    model.add(LeakyReLU(alpha=0.1))\n",
        "    model.add(MaxPooling2D(pool_size=(2,2), strides=(2,2), padding='valid'))\n",
        "    model.add(SpatialDropout2D(0.4))\n",
        "    # model.add(Layers.Dropout(0.1))\n",
        "\n",
        "    # 3rd Convolutional Layer\n",
        "    model.add(Layers.Conv2D(filters=128, kernel_size=(3,3), strides=(1,1), padding='same', kernel_initializer='he_uniform'))\n",
        "    model.add(BatchNormalization())\n",
        "    model.add(LeakyReLU(alpha=0.1))\n",
        "    model.add(MaxPooling2D(pool_size=(2,2), strides=(2,2), padding='valid'))\n",
        "    model.add(SpatialDropout2D(0.3))\n",
        "    # model.add(Layers.Dropout(0.1))\n",
        "\n",
        "    # 4th Convolutional Layer\n",
        "    model.add(Layers.Conv2D(filters=256, kernel_size=(3,3), strides=(1,1), padding='same', kernel_initializer='he_uniform'))\n",
        "    model.add(BatchNormalization())\n",
        "    model.add(LeakyReLU(alpha=0.1))\n",
        "    model.add(MaxPooling2D(pool_size=(3,3), strides=(3,3), padding='valid'))\n",
        "    model.add(SpatialDropout2D(0.2))\n",
        "    # model.add(Layers.Dropout(0.25))\n",
        "\n",
        "    # 5th Convolutional Layer\n",
        "    model.add(Layers.Conv2D(filters=512, kernel_size=(3,3), strides=(1,1), padding='same', kernel_initializer='he_uniform'))\n",
        "    model.add(BatchNormalization())\n",
        "    model.add(LeakyReLU(alpha=0.1))\n",
        "    model.add(MaxPooling2D(pool_size=(3,3), strides=(3,3), padding='valid'))\n",
        "    model.add(SpatialDropout2D(0.1))\n",
        "    # model.add(Layers.Dropout(0.25))\n",
        "\n",
        "    model.add(Layers.Flatten())\n",
        "\n",
        "    # 1st Fully Connected Layer\n",
        "    model.add(Layers.Dense(512,kernel_initializer='he_uniform'))\n",
        "    model.add(BatchNormalization())\n",
        "    model.add(LeakyReLU(alpha=0.05))\n",
        "    model.add(Dropout(0.6))\n",
        "\n",
        "    # 2nd Fully Connected Layer\n",
        "    model.add(Layers.Dense(128,kernel_initializer='he_uniform'))\n",
        "    model.add(BatchNormalization())\n",
        "    model.add(LeakyReLU(alpha=0.05))\n",
        "    model.add(Dropout(0.6))\n",
        "\n",
        "    # Add output layer\n",
        "    model.add(Layers.Dense(10,kernel_initializer='he_uniform',activation=\"softmax\"))\n",
        "    return model\n",
        "\n",
        "\n",
        "model1 = cnnmodel()\n",
        "model1.summary()\n",
        "SVG(model_to_dot(model1).create(prog='dot', format='svg'))\n",
        "Utils.plot_model(model1,to_file='model.png',show_shapes=True)\n",
        "\n",
        "model1.compile(optimizer=Adam(lr=0.001), loss='categorical_crossentropy', metrics=['accuracy'])\n"
      ]
    },
    {
      "cell_type": "code",
      "execution_count": null,
      "metadata": {
        "colab": {
          "base_uri": "https://localhost:8080/"
        },
        "id": "c-Tvcw2n30YK",
        "outputId": "18b66c98-54ce-4409-cc85-d38063240a0d"
      },
      "outputs": [
        {
          "name": "stdout",
          "output_type": "stream",
          "text": [
            "Epoch 1/15\n",
            "93/93 [==============================] - 126s 999ms/step - loss: 1.9774 - accuracy: 0.3411 - val_loss: 5.7359 - val_accuracy: 0.2700\n",
            "Epoch 2/15\n",
            "93/93 [==============================] - 91s 970ms/step - loss: 1.2839 - accuracy: 0.5524 - val_loss: 1.4711 - val_accuracy: 0.5100\n",
            "Epoch 3/15\n",
            "93/93 [==============================] - 90s 969ms/step - loss: 0.9268 - accuracy: 0.6822 - val_loss: 0.7478 - val_accuracy: 0.6600\n",
            "Epoch 4/15\n",
            "93/93 [==============================] - 90s 970ms/step - loss: 0.6598 - accuracy: 0.7813 - val_loss: 0.8305 - val_accuracy: 0.6300\n",
            "Epoch 5/15\n",
            "93/93 [==============================] - 90s 969ms/step - loss: 0.5210 - accuracy: 0.8245 - val_loss: 0.2158 - val_accuracy: 0.9400\n",
            "Epoch 6/15\n",
            "93/93 [==============================] - 91s 975ms/step - loss: 0.4330 - accuracy: 0.8601 - val_loss: 0.2579 - val_accuracy: 0.8900\n",
            "Epoch 7/15\n",
            "93/93 [==============================] - 91s 974ms/step - loss: 0.3718 - accuracy: 0.8769 - val_loss: 0.1048 - val_accuracy: 0.9900\n",
            "Epoch 8/15\n",
            "93/93 [==============================] - 90s 968ms/step - loss: 0.3029 - accuracy: 0.9031 - val_loss: 0.0792 - val_accuracy: 0.9900\n",
            "Epoch 9/15\n",
            "93/93 [==============================] - 90s 970ms/step - loss: 0.2710 - accuracy: 0.9154 - val_loss: 0.0665 - val_accuracy: 0.9800\n",
            "Epoch 10/15\n",
            "93/93 [==============================] - 90s 967ms/step - loss: 0.2397 - accuracy: 0.9262 - val_loss: 0.0597 - val_accuracy: 0.9700\n",
            "Epoch 11/15\n",
            "93/93 [==============================] - 91s 972ms/step - loss: 0.2062 - accuracy: 0.9344 - val_loss: 0.0312 - val_accuracy: 1.0000\n",
            "Epoch 12/15\n",
            "93/93 [==============================] - 91s 973ms/step - loss: 0.1780 - accuracy: 0.9454 - val_loss: 0.0254 - val_accuracy: 0.9900\n",
            "Epoch 13/15\n",
            "93/93 [==============================] - 91s 973ms/step - loss: 0.1659 - accuracy: 0.9494 - val_loss: 0.0216 - val_accuracy: 1.0000\n",
            "Epoch 14/15\n",
            "93/93 [==============================] - 91s 973ms/step - loss: 0.1335 - accuracy: 0.9578 - val_loss: 0.0676 - val_accuracy: 0.9700\n",
            "Epoch 15/15\n",
            "93/93 [==============================] - 91s 976ms/step - loss: 0.1480 - accuracy: 0.9525 - val_loss: 0.0105 - val_accuracy: 1.0000\n"
          ]
        }
      ],
      "source": [
        "from keras.callbacks import ReduceLROnPlateau\n",
        "from keras.callbacks import EarlyStopping\n",
        "from keras.callbacks import ModelCheckpoint\n",
        "\n",
        "batch_size = 64\n",
        "\n",
        "red_lr= ReduceLROnPlateau(monitor='val_loss',patience=4,verbose=1,factor=0.3, mode='auto', min_lr=10**(-12))\n",
        "mcp_save = ModelCheckpoint('.mdl_wts.hdf5', save_best_only=True, monitor='val_accuracy', mode='max')\n",
        "\n",
        "epochs = 15\n",
        "\n",
        "history = model1.fit(datagen.flow(x_train,y_train, batch_size=batch_size), epochs=epochs, \n",
        "                        validation_data = (x_val,y_val),verbose = 1,\n",
        "                        steps_per_epoch=x_train.shape[0] // batch_size,\n",
        "                        callbacks=[red_lr, mcp_save])"
      ]
    },
    {
      "cell_type": "markdown",
      "metadata": {
        "id": "unNnqq80PmFK"
      },
      "source": [
        "## Plotting Loss and Accuracy curves for both datasets"
      ]
    },
    {
      "cell_type": "code",
      "execution_count": null,
      "metadata": {
        "colab": {
          "base_uri": "https://localhost:8080/",
          "height": 822
        },
        "id": "Vff_DLuH30bW",
        "outputId": "393fbcb3-c2d2-46c9-846e-fbc616a2a624"
      },
      "outputs": [
        {
          "data": {
            "text/plain": [
              "Text(0.5, 1.0, 'Accuracy Curves')"
            ]
          },
          "execution_count": 14,
          "metadata": {},
          "output_type": "execute_result"
        },
        {
          "data": {
            "image/png": "[encoded data removed]",
            "text/plain": [
              "<Figure size 576x432 with 1 Axes>"
            ]
          },
          "metadata": {
            "needs_background": "light"
          },
          "output_type": "display_data"
        },
        {
          "data": {
            "image/png": "[encoded data removed]",
            "text/plain": [
              "<Figure size 576x432 with 1 Axes>"
            ]
          },
          "metadata": {
            "needs_background": "light"
          },
          "output_type": "display_data"
        }
      ],
      "source": [
        "# plotting loss curves for both train and val dataset\n",
        "\n",
        "plt.figure(figsize=[8,6])\n",
        "plt.plot(history.history['loss'],'r',linewidth=2.0)\n",
        "plt.plot(history.history['val_loss'],'b',linewidth=2.0)\n",
        "plt.legend(['Training loss', 'Validation Loss'],fontsize=15)\n",
        "plt.xlabel('Epochs ',fontsize=16)\n",
        "plt.ylabel('Loss',fontsize=16)\n",
        "plt.title('Loss Curves',fontsize=16)\n",
        "\n",
        "# plotting accuracy curves for both train and val dataset\n",
        "\n",
        "plt.figure(figsize=[8,6])\n",
        "plt.plot(history.history['accuracy'],'r',linewidth=2.0)\n",
        "plt.plot(history.history['val_accuracy'],'b',linewidth=2.0)\n",
        "plt.legend(['Training Accuracy', 'Validation Accuracy'],fontsize=16)\n",
        "plt.xlabel('Epochs ',fontsize=16)\n",
        "plt.ylabel('Accuracy',fontsize=16)\n",
        "plt.title('Accuracy Curves',fontsize=16)"
      ]
    },
    {
      "cell_type": "markdown",
      "metadata": {
        "id": "3ZBDm9mEPmFM"
      },
      "source": [
        "As the validation loss saturates, so I stopped at epoch=15"
      ]
    },
    {
      "cell_type": "markdown",
      "metadata": {
        "id": "OChMiracPmFN"
      },
      "source": [
        "## Making predictions on test data"
      ]
    },
    {
      "cell_type": "code",
      "execution_count": null,
      "metadata": {
        "id": "Ic_7B1Ui83aJ"
      },
      "outputs": [],
      "source": [
        "submission = pd.DataFrame()\n",
        "i= []\n",
        "l=[]\n",
        "\n",
        "for img in os.listdir('/content/drive/MyDrive/GNR/dataset/test/'):\n",
        "    image = cv2.imread('/content/drive/MyDrive/GNR/dataset/test/'+str(img)) \n",
        "    image = cv2.resize(image,(256,256)) \n",
        "    # image = cv2.resize(image,(256,256),fx=0,fy=0, interpolation = cv2.INTER_CUBIC)\n",
        "    image = np.reshape(image,[1,256,256,3])\n",
        "    i.append(img[0:4])\n",
        "    l.append(np.argmax(model1.predict(image)[0]) +1)  # Time to test our model on test data\n",
        "    \n",
        "    \n",
        "submission['ImageID'] = i\n",
        "submission['LabelID']= l\n",
        "    \n",
        "submission.to_csv('190010009.csv', index=False)"
      ]
    },
    {
      "cell_type": "code",
      "execution_count": null,
      "metadata": {
        "id": "G62mXBH983fD"
      },
      "outputs": [],
      "source": [
        ""
      ]
    }
  ],
  "metadata": {
    "accelerator": "GPU",
    "colab": {
      "collapsed_sections": [
        "87TYdDI5PmE1",
        "PYDRLzYKPmE5",
        "icpsomYsPmE8"
      ],
      "name": "190110096_GNR638.ipynb",
      "provenance": []
    },
    "kernelspec": {
      "display_name": "Python 3",
      "language": "python",
      "name": "python3"
    },
    "language_info": {
      "codemirror_mode": {
        "name": "ipython",
        "version": 3
      },
      "file_extension": ".py",
      "mimetype": "text/x-python",
      "name": "python",
      "nbconvert_exporter": "python",
      "pygments_lexer": "ipython3",
      "version": "3.8.8"
    }
  },
  "nbformat": 4,
  "nbformat_minor": 0
}